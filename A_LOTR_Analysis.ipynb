{
 "cells": [
  {
   "cell_type": "markdown",
   "metadata": {},
   "source": [
    "# Visual Analytics - Text Mining Lord of the Rings Movie Scripts"
   ]
  },
  {
   "cell_type": "code",
   "execution_count": 133,
   "metadata": {},
   "outputs": [],
   "source": [
    "# Setup\n",
    "import pandas as pd\n",
    "import numpy as np\n",
    "from matplotlib import pyplot as plt\n",
    "import seaborn as sns\n",
    "import csv"
   ]
  },
  {
   "cell_type": "code",
   "execution_count": 134,
   "metadata": {},
   "outputs": [],
   "source": [
    "# load data - https://www.kaggle.com/paultimothymooney/lord-of-the-rings-data\n",
    "scripts = pd.read_csv('data/lotr_scripts.csv', index_col=0)\n",
    "chars = pd.read_csv('data/lotr_characters.csv')"
   ]
  },
  {
   "cell_type": "code",
   "execution_count": 135,
   "metadata": {},
   "outputs": [
    {
     "data": {
      "text/html": [
       "<div>\n",
       "<style scoped>\n",
       "    .dataframe tbody tr th:only-of-type {\n",
       "        vertical-align: middle;\n",
       "    }\n",
       "\n",
       "    .dataframe tbody tr th {\n",
       "        vertical-align: top;\n",
       "    }\n",
       "\n",
       "    .dataframe thead th {\n",
       "        text-align: right;\n",
       "    }\n",
       "</style>\n",
       "<table border=\"1\" class=\"dataframe\">\n",
       "  <thead>\n",
       "    <tr style=\"text-align: right;\">\n",
       "      <th></th>\n",
       "      <th>char</th>\n",
       "      <th>dialog</th>\n",
       "      <th>movie</th>\n",
       "    </tr>\n",
       "  </thead>\n",
       "  <tbody>\n",
       "    <tr>\n",
       "      <th>0</th>\n",
       "      <td>DEAGOL</td>\n",
       "      <td>Oh Smeagol Ive got one! , Ive got a fish Smeag...</td>\n",
       "      <td>The Return of the King</td>\n",
       "    </tr>\n",
       "    <tr>\n",
       "      <th>1</th>\n",
       "      <td>SMEAGOL</td>\n",
       "      <td>Pull it in! Go on, go on, go on, pull it in!</td>\n",
       "      <td>The Return of the King</td>\n",
       "    </tr>\n",
       "    <tr>\n",
       "      <th>2</th>\n",
       "      <td>DEAGOL</td>\n",
       "      <td>Arrghh!</td>\n",
       "      <td>The Return of the King</td>\n",
       "    </tr>\n",
       "  </tbody>\n",
       "</table>\n",
       "</div>"
      ],
      "text/plain": [
       "      char                                             dialog  \\\n",
       "0   DEAGOL  Oh Smeagol Ive got one! , Ive got a fish Smeag...   \n",
       "1  SMEAGOL     Pull it in! Go on, go on, go on, pull it in!     \n",
       "2   DEAGOL                                           Arrghh!    \n",
       "\n",
       "                     movie  \n",
       "0  The Return of the King   \n",
       "1  The Return of the King   \n",
       "2  The Return of the King   "
      ]
     },
     "execution_count": 135,
     "metadata": {},
     "output_type": "execute_result"
    }
   ],
   "source": [
    "scripts.head(3)"
   ]
  },
  {
   "cell_type": "code",
   "execution_count": 136,
   "metadata": {},
   "outputs": [
    {
     "data": {
      "text/html": [
       "<div>\n",
       "<style scoped>\n",
       "    .dataframe tbody tr th:only-of-type {\n",
       "        vertical-align: middle;\n",
       "    }\n",
       "\n",
       "    .dataframe tbody tr th {\n",
       "        vertical-align: top;\n",
       "    }\n",
       "\n",
       "    .dataframe thead th {\n",
       "        text-align: right;\n",
       "    }\n",
       "</style>\n",
       "<table border=\"1\" class=\"dataframe\">\n",
       "  <thead>\n",
       "    <tr style=\"text-align: right;\">\n",
       "      <th></th>\n",
       "      <th>birth</th>\n",
       "      <th>death</th>\n",
       "      <th>gender</th>\n",
       "      <th>hair</th>\n",
       "      <th>height</th>\n",
       "      <th>name</th>\n",
       "      <th>race</th>\n",
       "      <th>realm</th>\n",
       "      <th>spouse</th>\n",
       "    </tr>\n",
       "  </thead>\n",
       "  <tbody>\n",
       "    <tr>\n",
       "      <th>0</th>\n",
       "      <td>NaN</td>\n",
       "      <td>NaN</td>\n",
       "      <td>Female</td>\n",
       "      <td>NaN</td>\n",
       "      <td>NaN</td>\n",
       "      <td>Adanel</td>\n",
       "      <td>Men</td>\n",
       "      <td>NaN</td>\n",
       "      <td>Belemir</td>\n",
       "    </tr>\n",
       "    <tr>\n",
       "      <th>1</th>\n",
       "      <td>TA 2978</td>\n",
       "      <td>February 26 ,3019</td>\n",
       "      <td>Male</td>\n",
       "      <td>Dark (book) Light brown (movie)</td>\n",
       "      <td>NaN</td>\n",
       "      <td>Boromir</td>\n",
       "      <td>Men</td>\n",
       "      <td>NaN</td>\n",
       "      <td>NaN</td>\n",
       "    </tr>\n",
       "    <tr>\n",
       "      <th>2</th>\n",
       "      <td>NaN</td>\n",
       "      <td>March ,3019</td>\n",
       "      <td>Male</td>\n",
       "      <td>NaN</td>\n",
       "      <td>NaN</td>\n",
       "      <td>Lagduf</td>\n",
       "      <td>Orcs</td>\n",
       "      <td>NaN</td>\n",
       "      <td>NaN</td>\n",
       "    </tr>\n",
       "  </tbody>\n",
       "</table>\n",
       "</div>"
      ],
      "text/plain": [
       "     birth              death  gender                             hair height  \\\n",
       "0      NaN                NaN  Female                              NaN    NaN   \n",
       "1  TA 2978  February 26 ,3019    Male  Dark (book) Light brown (movie)    NaN   \n",
       "2      NaN        March ,3019    Male                              NaN    NaN   \n",
       "\n",
       "      name  race realm   spouse  \n",
       "0   Adanel   Men   NaN  Belemir  \n",
       "1  Boromir   Men   NaN      NaN  \n",
       "2   Lagduf  Orcs   NaN      NaN  "
      ]
     },
     "execution_count": 136,
     "metadata": {},
     "output_type": "execute_result"
    }
   ],
   "source": [
    "chars.head(3)"
   ]
  },
  {
   "cell_type": "code",
   "execution_count": 159,
   "metadata": {},
   "outputs": [],
   "source": [
    "# load books.txt https://github.com/tianyigu/Lord_of_the_ring_project/tree/master/LOTR_code/lotr_script_scripy/lotr\n",
    "# read textfile\n",
    "lotr1 = pd.read_csv('data/book1.txt', sep='\\n', header=None, encoding='utf-8', quoting=csv.QUOTE_NONE)\n",
    "lotr2 = pd.read_csv('data/book2.txt', sep='\\n', header=None, encoding='utf-8', quoting=csv.QUOTE_NONE)\n",
    "lotr3 = pd.read_csv('data/book3.txt', sep='\\n', header=None, encoding='utf-8', quoting=csv.QUOTE_NONE)\n",
    "\n",
    "# change column name to 'text'\n",
    "lotr1.columns = ['text']\n",
    "lotr2.columns = ['text']\n",
    "lotr3.columns = ['text']"
   ]
  },
  {
   "cell_type": "code",
   "execution_count": 160,
   "metadata": {},
   "outputs": [],
   "source": [
    "# lotr1: remove title, contents, foreword and prologue\n",
    "idx = lotr1[lotr1['text'].str.contains('\\* BOOK I \\*')].index \n",
    "lotr1 = lotr1.iloc[idx[0]:, :]\n",
    "\n",
    "# lotr2: remove title\n",
    "idx = lotr2[lotr2['text'].str.contains('\\* BOOK III \\*')].index \n",
    "lotr2 = lotr2.iloc[idx[0]:, :]\n",
    "\n",
    "# lotr3: remove title\n",
    "idx = lotr3[lotr3['text'].str.contains('\\* BOOK V \\*')].index \n",
    "lotr3 = lotr3.iloc[idx[0]:-18, :]"
   ]
  },
  {
   "cell_type": "code",
   "execution_count": 161,
   "metadata": {},
   "outputs": [],
   "source": [
    "# combine books into one dataframe\n",
    "lotr = pd.concat([lotr1, lotr2, lotr3]).reset_index(drop=True)"
   ]
  },
  {
   "cell_type": "code",
   "execution_count": 162,
   "metadata": {},
   "outputs": [],
   "source": [
    "# Add book and chapter information\n",
    "lotr['book'] = lotr['text'].str.extract(r'(\\* BOOK .* \\*)', expand=False)\n",
    "lotr['chapter'] = lotr['text'].str.extract(r'(^Chapter .*)', expand=False)\n",
    "\n",
    "# fill empty rows with last available value\n",
    "lotr['book'] = lotr['book'].fillna(method='ffill')\n",
    "lotr['chapter'] = lotr['chapter'].fillna(method='ffill')"
   ]
  },
  {
   "cell_type": "code",
   "execution_count": 163,
   "metadata": {},
   "outputs": [
    {
     "data": {
      "text/html": [
       "<div>\n",
       "<style scoped>\n",
       "    .dataframe tbody tr th:only-of-type {\n",
       "        vertical-align: middle;\n",
       "    }\n",
       "\n",
       "    .dataframe tbody tr th {\n",
       "        vertical-align: top;\n",
       "    }\n",
       "\n",
       "    .dataframe thead th {\n",
       "        text-align: right;\n",
       "    }\n",
       "</style>\n",
       "<table border=\"1\" class=\"dataframe\">\n",
       "  <thead>\n",
       "    <tr style=\"text-align: right;\">\n",
       "      <th></th>\n",
       "      <th>text</th>\n",
       "      <th>book</th>\n",
       "      <th>chapter</th>\n",
       "    </tr>\n",
       "  </thead>\n",
       "  <tbody>\n",
       "    <tr>\n",
       "      <th>0</th>\n",
       "      <td>* BOOK I *</td>\n",
       "      <td>* BOOK I *</td>\n",
       "      <td>NaN</td>\n",
       "    </tr>\n",
       "    <tr>\n",
       "      <th>1</th>\n",
       "      <td>Chapter 1 . A Long-expected Party</td>\n",
       "      <td>* BOOK I *</td>\n",
       "      <td>Chapter 1 . A Long-expected Party</td>\n",
       "    </tr>\n",
       "    <tr>\n",
       "      <th>2</th>\n",
       "      <td>When Mr. Bilbo Baggins of Bag End announced th...</td>\n",
       "      <td>* BOOK I *</td>\n",
       "      <td>Chapter 1 . A Long-expected Party</td>\n",
       "    </tr>\n",
       "    <tr>\n",
       "      <th>3</th>\n",
       "      <td>celebrating his eleventy -first birthday with ...</td>\n",
       "      <td>* BOOK I *</td>\n",
       "      <td>Chapter 1 . A Long-expected Party</td>\n",
       "    </tr>\n",
       "    <tr>\n",
       "      <th>4</th>\n",
       "      <td>magnificence, there was much talk and exciteme...</td>\n",
       "      <td>* BOOK I *</td>\n",
       "      <td>Chapter 1 . A Long-expected Party</td>\n",
       "    </tr>\n",
       "    <tr>\n",
       "      <th>...</th>\n",
       "      <td>...</td>\n",
       "      <td>...</td>\n",
       "      <td>...</td>\n",
       "    </tr>\n",
       "    <tr>\n",
       "      <th>38506</th>\n",
       "      <td>went. But Sam turned to Bywater, and so came b...</td>\n",
       "      <td>* BOOK VI *</td>\n",
       "      <td>Chapter 9 . The Grey Havens</td>\n",
       "    </tr>\n",
       "    <tr>\n",
       "      <th>38507</th>\n",
       "      <td>ending once more. And he went on, and there wa...</td>\n",
       "      <td>* BOOK VI *</td>\n",
       "      <td>Chapter 9 . The Grey Havens</td>\n",
       "    </tr>\n",
       "    <tr>\n",
       "      <th>38508</th>\n",
       "      <td>within; and the evening meal was ready, and he...</td>\n",
       "      <td>* BOOK VI *</td>\n",
       "      <td>Chapter 9 . The Grey Havens</td>\n",
       "    </tr>\n",
       "    <tr>\n",
       "      <th>38509</th>\n",
       "      <td>him in, and set him in his chair, and put litt...</td>\n",
       "      <td>* BOOK VI *</td>\n",
       "      <td>Chapter 9 . The Grey Havens</td>\n",
       "    </tr>\n",
       "    <tr>\n",
       "      <th>38510</th>\n",
       "      <td>He drew a deep breath. 'Well, I'm back,' he sa...</td>\n",
       "      <td>* BOOK VI *</td>\n",
       "      <td>Chapter 9 . The Grey Havens</td>\n",
       "    </tr>\n",
       "  </tbody>\n",
       "</table>\n",
       "<p>38511 rows × 3 columns</p>\n",
       "</div>"
      ],
      "text/plain": [
       "                                                    text         book  \\\n",
       "0                                            * BOOK I *    * BOOK I *   \n",
       "1                     Chapter 1 . A Long-expected Party    * BOOK I *   \n",
       "2      When Mr. Bilbo Baggins of Bag End announced th...   * BOOK I *   \n",
       "3      celebrating his eleventy -first birthday with ...   * BOOK I *   \n",
       "4      magnificence, there was much talk and exciteme...   * BOOK I *   \n",
       "...                                                  ...          ...   \n",
       "38506  went. But Sam turned to Bywater, and so came b...  * BOOK VI *   \n",
       "38507  ending once more. And he went on, and there wa...  * BOOK VI *   \n",
       "38508  within; and the evening meal was ready, and he...  * BOOK VI *   \n",
       "38509  him in, and set him in his chair, and put litt...  * BOOK VI *   \n",
       "38510  He drew a deep breath. 'Well, I'm back,' he sa...  * BOOK VI *   \n",
       "\n",
       "                                  chapter  \n",
       "0                                     NaN  \n",
       "1      Chapter 1 . A Long-expected Party   \n",
       "2      Chapter 1 . A Long-expected Party   \n",
       "3      Chapter 1 . A Long-expected Party   \n",
       "4      Chapter 1 . A Long-expected Party   \n",
       "...                                   ...  \n",
       "38506        Chapter 9 . The Grey Havens   \n",
       "38507        Chapter 9 . The Grey Havens   \n",
       "38508        Chapter 9 . The Grey Havens   \n",
       "38509        Chapter 9 . The Grey Havens   \n",
       "38510        Chapter 9 . The Grey Havens   \n",
       "\n",
       "[38511 rows x 3 columns]"
      ]
     },
     "execution_count": 163,
     "metadata": {},
     "output_type": "execute_result"
    }
   ],
   "source": [
    "lotr"
   ]
  },
  {
   "cell_type": "code",
   "execution_count": 172,
   "metadata": {},
   "outputs": [
    {
     "data": {
      "text/plain": [
       "book         chapter                               \n",
       "* BOOK I *   Chapter 1 . A Long-expected Party          9875\n",
       "             Chapter 10. Strider                        5804\n",
       "             Chapter 11. A Knife in the Dark            9368\n",
       "             Chapter 12 . Flight to the Ford            8727\n",
       "             Chapter 2 . The Shadow of the Past        11190\n",
       "                                                       ...  \n",
       "* BOOK VI *  Chapter 5 . The Steward and the King       7614\n",
       "             Chapter 6. Many Partings                   7371\n",
       "             Chapter 7 . Homeward Bound                 3989\n",
       "             Chapter 8 . The Scouring of the Shire     10940\n",
       "             Chapter 9 . The Grey Havens                4747\n",
       "Name: text, Length: 67, dtype: int64"
      ]
     },
     "execution_count": 172,
     "metadata": {},
     "output_type": "execute_result"
    }
   ],
   "source": [
    "# join text per chapter\n",
    "lotr.groupby(['book', 'chapter'])['text'].apply(lambda x: len(' '.join(x).split()))"
   ]
  },
  {
   "cell_type": "code",
   "execution_count": null,
   "metadata": {},
   "outputs": [],
   "source": []
  }
 ],
 "metadata": {
  "interpreter": {
   "hash": "168ce51d7a1da5ddf0358244fafe8b53adcbf8df6bbb20fdfc62868c1cdb7eb5"
  },
  "kernelspec": {
   "display_name": "Python 3.10.1 64-bit ('VA': conda)",
   "language": "python",
   "name": "python3"
  },
  "language_info": {
   "codemirror_mode": {
    "name": "ipython",
    "version": 3
   },
   "file_extension": ".py",
   "mimetype": "text/x-python",
   "name": "python",
   "nbconvert_exporter": "python",
   "pygments_lexer": "ipython3",
   "version": "3.9.7"
  },
  "orig_nbformat": 4
 },
 "nbformat": 4,
 "nbformat_minor": 2
}
