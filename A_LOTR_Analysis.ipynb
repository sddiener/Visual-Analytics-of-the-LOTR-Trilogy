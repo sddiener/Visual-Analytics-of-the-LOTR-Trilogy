{
 "cells": [
  {
   "cell_type": "markdown",
   "metadata": {},
   "source": [
    "# Visual Analytics - Text Mining Lord of the Rings Movie Scripts"
   ]
  },
  {
   "cell_type": "code",
   "execution_count": 1,
   "metadata": {},
   "outputs": [],
   "source": [
    "# Setup\n",
    "import pandas as pd\n",
    "import numpy as np\n",
    "from matplotlib import pyplot as plt\n",
    "import seaborn as sns\n",
    "import csv"
   ]
  },
  {
   "cell_type": "code",
   "execution_count": 2,
   "metadata": {},
   "outputs": [],
   "source": [
    "# load data - https://www.kaggle.com/paultimothymooney/lord-of-the-rings-data\n",
    "scripts = pd.read_csv('data/lotr_scripts.csv', index_col=0)\n",
    "chars = pd.read_csv('data/lotr_characters.csv')"
   ]
  },
  {
   "cell_type": "code",
   "execution_count": 3,
   "metadata": {},
   "outputs": [
    {
     "data": {
      "text/html": [
       "<div>\n",
       "<style scoped>\n",
       "    .dataframe tbody tr th:only-of-type {\n",
       "        vertical-align: middle;\n",
       "    }\n",
       "\n",
       "    .dataframe tbody tr th {\n",
       "        vertical-align: top;\n",
       "    }\n",
       "\n",
       "    .dataframe thead th {\n",
       "        text-align: right;\n",
       "    }\n",
       "</style>\n",
       "<table border=\"1\" class=\"dataframe\">\n",
       "  <thead>\n",
       "    <tr style=\"text-align: right;\">\n",
       "      <th></th>\n",
       "      <th>char</th>\n",
       "      <th>dialog</th>\n",
       "      <th>movie</th>\n",
       "    </tr>\n",
       "  </thead>\n",
       "  <tbody>\n",
       "    <tr>\n",
       "      <th>0</th>\n",
       "      <td>DEAGOL</td>\n",
       "      <td>Oh Smeagol Ive got one! , Ive got a fish Smeag...</td>\n",
       "      <td>The Return of the King</td>\n",
       "    </tr>\n",
       "    <tr>\n",
       "      <th>1</th>\n",
       "      <td>SMEAGOL</td>\n",
       "      <td>Pull it in! Go on, go on, go on, pull it in!</td>\n",
       "      <td>The Return of the King</td>\n",
       "    </tr>\n",
       "    <tr>\n",
       "      <th>2</th>\n",
       "      <td>DEAGOL</td>\n",
       "      <td>Arrghh!</td>\n",
       "      <td>The Return of the King</td>\n",
       "    </tr>\n",
       "  </tbody>\n",
       "</table>\n",
       "</div>"
      ],
      "text/plain": [
       "      char                                             dialog  \\\n",
       "0   DEAGOL  Oh Smeagol Ive got one! , Ive got a fish Smeag...   \n",
       "1  SMEAGOL     Pull it in! Go on, go on, go on, pull it in!     \n",
       "2   DEAGOL                                           Arrghh!    \n",
       "\n",
       "                     movie  \n",
       "0  The Return of the King   \n",
       "1  The Return of the King   \n",
       "2  The Return of the King   "
      ]
     },
     "execution_count": 3,
     "metadata": {},
     "output_type": "execute_result"
    }
   ],
   "source": [
    "scripts.head(3)"
   ]
  },
  {
   "cell_type": "code",
   "execution_count": 4,
   "metadata": {},
   "outputs": [
    {
     "data": {
      "text/html": [
       "<div>\n",
       "<style scoped>\n",
       "    .dataframe tbody tr th:only-of-type {\n",
       "        vertical-align: middle;\n",
       "    }\n",
       "\n",
       "    .dataframe tbody tr th {\n",
       "        vertical-align: top;\n",
       "    }\n",
       "\n",
       "    .dataframe thead th {\n",
       "        text-align: right;\n",
       "    }\n",
       "</style>\n",
       "<table border=\"1\" class=\"dataframe\">\n",
       "  <thead>\n",
       "    <tr style=\"text-align: right;\">\n",
       "      <th></th>\n",
       "      <th>birth</th>\n",
       "      <th>death</th>\n",
       "      <th>gender</th>\n",
       "      <th>hair</th>\n",
       "      <th>height</th>\n",
       "      <th>name</th>\n",
       "      <th>race</th>\n",
       "      <th>realm</th>\n",
       "      <th>spouse</th>\n",
       "    </tr>\n",
       "  </thead>\n",
       "  <tbody>\n",
       "    <tr>\n",
       "      <th>0</th>\n",
       "      <td>NaN</td>\n",
       "      <td>NaN</td>\n",
       "      <td>Female</td>\n",
       "      <td>NaN</td>\n",
       "      <td>NaN</td>\n",
       "      <td>Adanel</td>\n",
       "      <td>Men</td>\n",
       "      <td>NaN</td>\n",
       "      <td>Belemir</td>\n",
       "    </tr>\n",
       "    <tr>\n",
       "      <th>1</th>\n",
       "      <td>TA 2978</td>\n",
       "      <td>February 26 ,3019</td>\n",
       "      <td>Male</td>\n",
       "      <td>Dark (book) Light brown (movie)</td>\n",
       "      <td>NaN</td>\n",
       "      <td>Boromir</td>\n",
       "      <td>Men</td>\n",
       "      <td>NaN</td>\n",
       "      <td>NaN</td>\n",
       "    </tr>\n",
       "    <tr>\n",
       "      <th>2</th>\n",
       "      <td>NaN</td>\n",
       "      <td>March ,3019</td>\n",
       "      <td>Male</td>\n",
       "      <td>NaN</td>\n",
       "      <td>NaN</td>\n",
       "      <td>Lagduf</td>\n",
       "      <td>Orcs</td>\n",
       "      <td>NaN</td>\n",
       "      <td>NaN</td>\n",
       "    </tr>\n",
       "  </tbody>\n",
       "</table>\n",
       "</div>"
      ],
      "text/plain": [
       "     birth              death  gender                             hair height  \\\n",
       "0      NaN                NaN  Female                              NaN    NaN   \n",
       "1  TA 2978  February 26 ,3019    Male  Dark (book) Light brown (movie)    NaN   \n",
       "2      NaN        March ,3019    Male                              NaN    NaN   \n",
       "\n",
       "      name  race realm   spouse  \n",
       "0   Adanel   Men   NaN  Belemir  \n",
       "1  Boromir   Men   NaN      NaN  \n",
       "2   Lagduf  Orcs   NaN      NaN  "
      ]
     },
     "execution_count": 4,
     "metadata": {},
     "output_type": "execute_result"
    }
   ],
   "source": [
    "chars.head(3)"
   ]
  },
  {
   "cell_type": "code",
   "execution_count": 33,
   "metadata": {},
   "outputs": [],
   "source": [
    "# load books.txt https://github.com/tianyigu/Lord_of_the_ring_project/tree/master/LOTR_code/lotr_script_scripy/lotr\n",
    "# read textfile\n",
    "lotr1 = pd.read_csv('data/book1.txt', sep='\\n', header=None)\n",
    "lotr2 = pd.read_csv('data/book2.txt', sep='\\n', header=None, quoting=csv.QUOTE_NONE)\n",
    "lotr3 = pd.read_csv('data/book3.txt', sep='\\n', header=None)\n",
    "\n",
    "# change column name to 'text'\n",
    "lotr1.columns = ['text']\n",
    "lotr2.columns = ['text']\n",
    "lotr3.columns = ['text']"
   ]
  },
  {
   "cell_type": "code",
   "execution_count": 34,
   "metadata": {},
   "outputs": [],
   "source": [
    "# lotr1: remove foreword and contents\n",
    "idx = lotr1[lotr1['text'].str.contains('\\* PROLOGUE \\*')].index  # find index of * PROLOGUE * in book1\n",
    "lotr1 = lotr1.iloc[idx[0]:, :]  # remove everything before PROLOGUE\n",
    "\n",
    "# lotr2: remove title\n",
    "idx = lotr2[lotr2['text'].str.contains('\\* BOOK III \\*')].index  # find index of * PROLOGUE * in book1\n",
    "lotr2 = lotr2.iloc[idx[0]:, :]  # remove everything before PROLOGUE\n",
    "\n",
    "# lotr3: remove title\n",
    "idx = lotr3[lotr3['text'].str.contains('\\* BOOK V \\*')].index  # find index of * PROLOGUE * in book1\n",
    "lotr3 = lotr3.iloc[idx[0]:, :]  # remove everything before PROLOGUE"
   ]
  },
  {
   "cell_type": "code",
   "execution_count": 35,
   "metadata": {},
   "outputs": [],
   "source": [
    "# combine books into one dataframe\n",
    "lotr = pd.concat([lotr1, lotr2, lotr3]).reset_index(drop=True)"
   ]
  },
  {
   "cell_type": "code",
   "execution_count": 36,
   "metadata": {},
   "outputs": [
    {
     "name": "stdout",
     "output_type": "stream",
     "text": [
      "[nan '* BOOK I *' '* BOOK II *' '* BOOK III *' '* BOOK IV *' '* BOOK V *'\n",
      " '* BOOK VI *']\n"
     ]
    }
   ],
   "source": [
    "# Add book markers\n",
    "lotr['book'] = lotr['text'].str.extract(r'(\\* BOOK .* \\*)', expand=False)\n",
    "print(lotr['book'].unique())\n",
    "\n",
    "# add chapter information\n",
    "lotr['chapter'] = lotr['text'].str.extract('(Chapter .*)', expand=False)\n",
    "chapters = pd.DataFrame(lotr['chapter'].unique())"
   ]
  },
  {
   "cell_type": "code",
   "execution_count": 42,
   "metadata": {},
   "outputs": [],
   "source": [
    "lotr3['chapter'] = lotr3['text'].str.extract(r'(^Chapter .*)', expand=False)\n",
    "chapters3 = pd.DataFrame(lotr3['chapter'].unique())"
   ]
  },
  {
   "cell_type": "code",
   "execution_count": null,
   "metadata": {},
   "outputs": [],
   "source": []
  }
 ],
 "metadata": {
  "interpreter": {
   "hash": "168ce51d7a1da5ddf0358244fafe8b53adcbf8df6bbb20fdfc62868c1cdb7eb5"
  },
  "kernelspec": {
   "display_name": "Python 3.10.1 64-bit ('VA': conda)",
   "language": "python",
   "name": "python3"
  },
  "language_info": {
   "codemirror_mode": {
    "name": "ipython",
    "version": 3
   },
   "file_extension": ".py",
   "mimetype": "text/x-python",
   "name": "python",
   "nbconvert_exporter": "python",
   "pygments_lexer": "ipython3",
   "version": "3.9.7"
  },
  "orig_nbformat": 4
 },
 "nbformat": 4,
 "nbformat_minor": 2
}
