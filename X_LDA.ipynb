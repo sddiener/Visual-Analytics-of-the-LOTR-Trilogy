{
 "cells": [
  {
   "cell_type": "markdown",
   "metadata": {},
   "source": [
    "# EDA"
   ]
  },
  {
   "cell_type": "markdown",
   "metadata": {},
   "source": [
    "### This notebook constructs some summary statistics on the final data"
   ]
  },
  {
   "cell_type": "code",
   "execution_count": 30,
   "metadata": {},
   "outputs": [],
   "source": [
    "# Setup\n",
    "import pandas as pd\n",
    "import numpy as np\n",
    "import matplotlib.pyplot as plt\n",
    "import seaborn as sns\n",
    "from wordcloud import WordCloud\n",
    "from sklearn.decomposition import LatentDirichletAllocation\n",
    "from sklearn.feature_extraction.text import CountVectorizer\n",
    "from sklearn.feature_extraction.text import TfidfVectorizer\n"
   ]
  },
  {
   "cell_type": "code",
   "execution_count": 31,
   "metadata": {},
   "outputs": [],
   "source": [
    "data = pd.read_pickle('data/final_data.pkl')  # future: merged_data_sentiment.pkl"
   ]
  },
  {
   "cell_type": "code",
   "execution_count": 32,
   "metadata": {},
   "outputs": [
    {
     "data": {
      "text/plain": [
       "(456, 35)"
      ]
     },
     "execution_count": 32,
     "metadata": {},
     "output_type": "execute_result"
    }
   ],
   "source": [
    "data = data[data.category == 'Audio'].reset_index(drop=True)\n",
    "data.shape"
   ]
  },
  {
   "cell_type": "code",
   "execution_count": 33,
   "metadata": {},
   "outputs": [
    {
     "data": {
      "text/plain": [
       "'Splash: The Dancing Fountain Bluetooth Speaker'"
      ]
     },
     "execution_count": 33,
     "metadata": {},
     "output_type": "execute_result"
    }
   ],
   "source": [
    "# Print Example\n",
    "data.title[0]"
   ]
  },
  {
   "cell_type": "code",
   "execution_count": 34,
   "metadata": {},
   "outputs": [
    {
     "data": {
      "text/plain": [
       "'Don’t just hear your music, see your music too!'"
      ]
     },
     "execution_count": 34,
     "metadata": {},
     "output_type": "execute_result"
    }
   ],
   "source": [
    "# Print Example\n",
    "data.description[0]"
   ]
  },
  {
   "cell_type": "code",
   "execution_count": 35,
   "metadata": {},
   "outputs": [
    {
     "data": {
      "text/plain": [
       "'enjoying music one best feelings world make even special splash bluetooth speaker allows listen music high quality sound allows totally immerse enjoy visually looking really get party started create wow factor entertaining guests home splash bluetooth speaker perfect creating fun vibe occasion splash bluetooth speaker built led light fountain feature driven pulse reactive motor connected sound source motor spins beat music colour led lights dance around inside speaker creating spectacular fountain visual display time tune want take musical experience next level splash bluetooth speaker exactly need boasting dual soundtracks splash bluetooth speaker brings new dimension enjoying music able fill entire room crystal clear stereo surround sound unlike regular hi fi speakers splash becomes party centrepiece powerful woofer creating high quality audio visual enjoyment connect splash device bt aux enjoy high quality sound spectacular fountain show contact us even discounts learn splash today'"
      ]
     },
     "execution_count": 35,
     "metadata": {},
     "output_type": "execute_result"
    }
   ],
   "source": [
    "# Print Example\n",
    "data.story_txt_clean[0]"
   ]
  },
  {
   "cell_type": "code",
   "execution_count": 162,
   "metadata": {},
   "outputs": [],
   "source": [
    "def top_words_dtm(tf, tf_vectorizer, n_top_words=None):\n",
    "    tf_words = tf_vectorizer.get_feature_names_out()\n",
    "    tf_freqs = tf.toarray().sum(axis=0)\n",
    "    df = pd.DataFrame({'word': tf_words, 'freq': tf_freqs})\n",
    "    df = df.sort_values(by='freq', ascending=False).reset_index(drop=True)\n",
    "    return df.iloc[:n_top_words ,:]"
   ]
  },
  {
   "cell_type": "code",
   "execution_count": 226,
   "metadata": {},
   "outputs": [],
   "source": [
    "def print_top_words_lda(model, tf_vectorizer, n_top_words):\n",
    "    for topic_id, topic in enumerate(model.components_):\n",
    "        feature_names = tf_vectorizer.get_feature_names_out()\n",
    "        print('\\nTopic Nr.%d:' % int(topic_id + 1)) \n",
    "        print(''.join([feature_names[i] + ' ' + str(round(topic[i], 2)) \n",
    "              +' | ' for i in topic.argsort()[:-n_top_words - 1:-1]]))"
   ]
  },
  {
   "cell_type": "code",
   "execution_count": 215,
   "metadata": {},
   "outputs": [],
   "source": [
    "# create text corpus from text column\n",
    "corpus_small = data.title_clean + data.description_clean\n",
    "corpus_large = data.story_txt_clean\n",
    "\n",
    "corpus = corpus_small"
   ]
  },
  {
   "cell_type": "code",
   "execution_count": 228,
   "metadata": {},
   "outputs": [],
   "source": [
    "# LDA of the data   #  https://towardsdatascience.com/introduction-to-topic-modeling-using-scikit-learn-4c3f3290f5b9\n",
    "tf_vectorizer = CountVectorizer(max_df=1.0, min_df=3, max_features=None, stop_words='english', ngram_range=(1, 1))\n",
    "tf = tf_vectorizer.fit_transform(corpus)  # create dtm with word frequencies\n",
    "# top_words_dtm(tf, tf_vectorizer)  # Print top words"
   ]
  },
  {
   "cell_type": "code",
   "execution_count": 225,
   "metadata": {},
   "outputs": [],
   "source": [
    "lda = LatentDirichletAllocation(n_components=5, random_state=1).fit(tf)"
   ]
  },
  {
   "cell_type": "code",
   "execution_count": 227,
   "metadata": {},
   "outputs": [
    {
     "name": "stdout",
     "output_type": "stream",
     "text": [
      "\n",
      "Topic Nr.1:\n",
      "wireless 82.79 | bluetooth 54.26 | true 27.93 | headphones 27.85 | sound 27.74 | audio 26.95 | portable 21.38 | stereo 16.75 | earbuds 15.91 | noise 15.78 | \n",
      "\n",
      "Topic Nr.2:\n",
      "world 30.85 | wireless 14.19 | earbuds 12.35 | designed 11.19 | best 10.26 | custom 10.2 | hearing 9.2 | sounds 9.18 | guitar 9.0 | sound 8.89 | \n",
      "\n",
      "Topic Nr.3:\n",
      "music 45.82 | bluetooth 28.13 | speaker 26.94 | noise 22.99 | ear 17.57 | help 16.2 | voice 14.74 | sound 13.03 | audio 10.28 | create 10.19 | \n",
      "\n",
      "Topic Nr.4:\n",
      "sound 24.48 | audio 23.56 | stereo 20.98 | high 20.43 | earbuds 14.39 | dac 14.2 | music 12.5 | wireless 12.2 | speakers 11.66 | bluetooth 9.93 | \n",
      "\n",
      "Topic Nr.5:\n",
      "audio 61.01 | sound 58.86 | wireless 26.27 | hi 25.2 | music 23.91 | fi 23.6 | speaker 21.33 | headphones 20.13 | waterproof 18.77 | headphone 17.19 | \n"
     ]
    }
   ],
   "source": [
    "print_top_words_lda(lda, tf_vectorizer, n_top_words=10)"
   ]
  },
  {
   "cell_type": "code",
   "execution_count": 187,
   "metadata": {},
   "outputs": [
    {
     "data": {
      "text/plain": [
       "array([[0.00461803, 0.99025941, 0.00512256],\n",
       "       [0.71127196, 0.10536985, 0.18335819],\n",
       "       [0.00235298, 0.00222621, 0.99542081],\n",
       "       ...,\n",
       "       [0.67966514, 0.31847727, 0.00185758],\n",
       "       [0.01810841, 0.01754193, 0.96434966],\n",
       "       [0.56862391, 0.0121102 , 0.41926589]])"
      ]
     },
     "execution_count": 187,
     "metadata": {},
     "output_type": "execute_result"
    }
   ],
   "source": [
    "lda.transform(tf)  # get topics for samples"
   ]
  },
  {
   "cell_type": "code",
   "execution_count": null,
   "metadata": {},
   "outputs": [],
   "source": []
  }
 ],
 "metadata": {
  "interpreter": {
   "hash": "60ba0251a07f4a3057c7fd5d8b16c5007555f6d94a13c9b1c15ce46c5ae24532"
  },
  "kernelspec": {
   "display_name": "Python 3.9.7 64-bit ('PoDS2': conda)",
   "language": "python",
   "name": "python3"
  },
  "language_info": {
   "codemirror_mode": {
    "name": "ipython",
    "version": 3
   },
   "file_extension": ".py",
   "mimetype": "text/x-python",
   "name": "python",
   "nbconvert_exporter": "python",
   "pygments_lexer": "ipython3",
   "version": "3.9.7"
  },
  "orig_nbformat": 4
 },
 "nbformat": 4,
 "nbformat_minor": 2
}
